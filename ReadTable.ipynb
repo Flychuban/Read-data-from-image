{
  "nbformat": 4,
  "nbformat_minor": 0,
  "metadata": {
    "colab": {
      "provenance": [],
      "mount_file_id": "1PIzs9X5Mr0UmSOht0oo7gyKehHr0UI2s",
      "authorship_tag": "ABX9TyM3Nmk9W+MGxpscOBNB7eoE",
      "include_colab_link": true
    },
    "kernelspec": {
      "name": "python3",
      "display_name": "Python 3"
    },
    "language_info": {
      "name": "python"
    }
  },
  "cells": [
    {
      "cell_type": "markdown",
      "metadata": {
        "id": "view-in-github",
        "colab_type": "text"
      },
      "source": [
        "<a href=\"https://colab.research.google.com/github/Flychuban/Read-data-from-image/blob/main/ReadTable.ipynb\" target=\"_parent\"><img src=\"https://colab.research.google.com/assets/colab-badge.svg\" alt=\"Open In Colab\"/></a>"
      ]
    },
    {
      "cell_type": "code",
      "execution_count": 1,
      "metadata": {
        "colab": {
          "base_uri": "https://localhost:8080/"
        },
        "id": "l6WvXpMKxM72",
        "outputId": "d6da2b05-3060-408b-f83a-37ef6ef73ab5"
      },
      "outputs": [
        {
          "output_type": "stream",
          "name": "stdout",
          "text": [
            "\r0% [Working]\r            \rGet:1 https://cloud.r-project.org/bin/linux/ubuntu focal-cran40/ InRelease [3,622 B]\n",
            "Hit:2 https://developer.download.nvidia.com/compute/cuda/repos/ubuntu2004/x86_64  InRelease\n",
            "Get:3 http://security.ubuntu.com/ubuntu focal-security InRelease [114 kB]\n",
            "Get:4 http://ppa.launchpad.net/alex-p/tesseract-ocr-devel/ubuntu focal InRelease [17.6 kB]\n",
            "Hit:5 http://archive.ubuntu.com/ubuntu focal InRelease\n",
            "Get:6 https://cloud.r-project.org/bin/linux/ubuntu focal-cran40/ Packages [82.8 kB]\n",
            "Get:7 http://archive.ubuntu.com/ubuntu focal-updates InRelease [114 kB]\n",
            "Get:8 http://ppa.launchpad.net/c2d4u.team/c2d4u4.0+/ubuntu focal InRelease [18.1 kB]\n",
            "Get:9 http://archive.ubuntu.com/ubuntu focal-backports InRelease [108 kB]\n",
            "Get:10 http://security.ubuntu.com/ubuntu focal-security/main amd64 Packages [2,866 kB]\n",
            "Hit:11 http://ppa.launchpad.net/cran/libgit2/ubuntu focal InRelease\n",
            "Hit:12 http://ppa.launchpad.net/deadsnakes/ppa/ubuntu focal InRelease\n",
            "Get:13 http://archive.ubuntu.com/ubuntu focal-updates/universe amd64 Packages [1,369 kB]\n",
            "Get:14 http://security.ubuntu.com/ubuntu focal-security/universe amd64 Packages [1,070 kB]\n",
            "Get:15 http://security.ubuntu.com/ubuntu focal-security/restricted amd64 Packages [2,529 kB]\n",
            "Get:16 http://security.ubuntu.com/ubuntu focal-security/multiverse amd64 Packages [37.5 kB]\n",
            "Hit:17 http://ppa.launchpad.net/graphics-drivers/ppa/ubuntu focal InRelease\n",
            "Hit:18 http://ppa.launchpad.net/ubuntugis/ppa/ubuntu focal InRelease\n",
            "Get:19 http://archive.ubuntu.com/ubuntu focal-updates/main amd64 Packages [3,346 kB]\n",
            "Get:20 http://ppa.launchpad.net/alex-p/tesseract-ocr-devel/ubuntu focal/main amd64 Packages [25.0 kB]\n",
            "Get:21 http://archive.ubuntu.com/ubuntu focal-updates/restricted amd64 Packages [2,670 kB]\n",
            "Get:22 http://archive.ubuntu.com/ubuntu focal-updates/multiverse amd64 Packages [40.2 kB]\n",
            "Get:23 http://ppa.launchpad.net/c2d4u.team/c2d4u4.0+/ubuntu focal/main Sources [2,604 kB]\n",
            "Get:24 http://ppa.launchpad.net/c2d4u.team/c2d4u4.0+/ubuntu focal/main amd64 Packages [1,230 kB]\n",
            "Fetched 18.2 MB in 5s (3,676 kB/s)\n",
            "Reading package lists... Done\n",
            "Hit:1 https://cloud.r-project.org/bin/linux/ubuntu focal-cran40/ InRelease\n",
            "Hit:2 https://developer.download.nvidia.com/compute/cuda/repos/ubuntu2004/x86_64  InRelease\n",
            "Hit:3 http://security.ubuntu.com/ubuntu focal-security InRelease\n",
            "Hit:4 http://ppa.launchpad.net/alex-p/tesseract-ocr-devel/ubuntu focal InRelease\n",
            "Hit:5 http://archive.ubuntu.com/ubuntu focal InRelease\n",
            "Hit:6 http://archive.ubuntu.com/ubuntu focal-updates InRelease\n",
            "Hit:7 http://ppa.launchpad.net/c2d4u.team/c2d4u4.0+/ubuntu focal InRelease\n",
            "Hit:8 http://archive.ubuntu.com/ubuntu focal-backports InRelease\n",
            "Hit:9 http://ppa.launchpad.net/cran/libgit2/ubuntu focal InRelease\n",
            "Hit:10 http://ppa.launchpad.net/deadsnakes/ppa/ubuntu focal InRelease\n",
            "Hit:11 http://ppa.launchpad.net/graphics-drivers/ppa/ubuntu focal InRelease\n",
            "Hit:12 http://ppa.launchpad.net/ubuntugis/ppa/ubuntu focal InRelease\n",
            "Reading package lists... Done\n",
            "Reading package lists... Done\n",
            "Building dependency tree       \n",
            "Reading state information... Done\n",
            "The following additional packages will be installed:\n",
            "  libtesseract5 tesseract-ocr-eng tesseract-ocr-osd\n",
            "The following NEW packages will be installed:\n",
            "  libtesseract5 tesseract-ocr tesseract-ocr-eng tesseract-ocr-osd\n",
            "0 upgraded, 4 newly installed, 0 to remove and 25 not upgraded.\n",
            "Need to get 6,238 kB of archives.\n",
            "After this operation, 20.3 MB of additional disk space will be used.\n",
            "Get:1 http://ppa.launchpad.net/alex-p/tesseract-ocr-devel/ubuntu focal/main amd64 libtesseract5 amd64 5.3.1+git6230-63639750-1ppa1~focal1 [1,242 kB]\n",
            "Get:2 http://ppa.launchpad.net/alex-p/tesseract-ocr-devel/ubuntu focal/main amd64 tesseract-ocr-eng all 1:5.0.0~git39-6572757-2ppa1~focal1 [1,592 kB]\n",
            "Get:3 http://ppa.launchpad.net/alex-p/tesseract-ocr-devel/ubuntu focal/main amd64 tesseract-ocr-osd all 1:5.0.0~git39-6572757-2ppa1~focal1 [2,992 kB]\n",
            "Get:4 http://ppa.launchpad.net/alex-p/tesseract-ocr-devel/ubuntu focal/main amd64 tesseract-ocr amd64 5.3.1+git6230-63639750-1ppa1~focal1 [411 kB]\n",
            "Fetched 6,238 kB in 4s (1,455 kB/s)\n",
            "Selecting previously unselected package libtesseract5:amd64.\n",
            "(Reading database ... 123105 files and directories currently installed.)\n",
            "Preparing to unpack .../libtesseract5_5.3.1+git6230-63639750-1ppa1~focal1_amd64.deb ...\n",
            "Unpacking libtesseract5:amd64 (5.3.1+git6230-63639750-1ppa1~focal1) ...\n",
            "Selecting previously unselected package tesseract-ocr-eng.\n",
            "Preparing to unpack .../tesseract-ocr-eng_1%3a5.0.0~git39-6572757-2ppa1~focal1_all.deb ...\n",
            "Unpacking tesseract-ocr-eng (1:5.0.0~git39-6572757-2ppa1~focal1) ...\n",
            "Selecting previously unselected package tesseract-ocr-osd.\n",
            "Preparing to unpack .../tesseract-ocr-osd_1%3a5.0.0~git39-6572757-2ppa1~focal1_all.deb ...\n",
            "Unpacking tesseract-ocr-osd (1:5.0.0~git39-6572757-2ppa1~focal1) ...\n",
            "Selecting previously unselected package tesseract-ocr.\n",
            "Preparing to unpack .../tesseract-ocr_5.3.1+git6230-63639750-1ppa1~focal1_amd64.deb ...\n",
            "Unpacking tesseract-ocr (5.3.1+git6230-63639750-1ppa1~focal1) ...\n",
            "Setting up tesseract-ocr-eng (1:5.0.0~git39-6572757-2ppa1~focal1) ...\n",
            "Setting up libtesseract5:amd64 (5.3.1+git6230-63639750-1ppa1~focal1) ...\n",
            "Setting up tesseract-ocr-osd (1:5.0.0~git39-6572757-2ppa1~focal1) ...\n",
            "Setting up tesseract-ocr (5.3.1+git6230-63639750-1ppa1~focal1) ...\n",
            "Processing triggers for man-db (2.9.1-1) ...\n",
            "Processing triggers for libc-bin (2.31-0ubuntu9.9) ...\n",
            "Collecting pytesseract\n",
            "  Downloading pytesseract-0.3.10-py3-none-any.whl (14 kB)\n",
            "Requirement already satisfied: packaging>=21.3 in /usr/local/lib/python3.10/dist-packages (from pytesseract) (23.1)\n",
            "Requirement already satisfied: Pillow>=8.0.0 in /usr/local/lib/python3.10/dist-packages (from pytesseract) (8.4.0)\n",
            "Installing collected packages: pytesseract\n",
            "Successfully installed pytesseract-0.3.10\n"
          ]
        }
      ],
      "source": [
        "!add-apt-repository -y ppa:alex-p/tesseract-ocr-devel\n",
        "!apt-get update\n",
        "!apt-get install tesseract-ocr\n",
        "!pip install pytesseract"
      ]
    },
    {
      "cell_type": "code",
      "source": [
        "# import the necessary packages\n",
        "from sklearn.cluster import AgglomerativeClustering\n",
        "from matplotlib import pyplot as plt\n",
        "from pytesseract import Output\n",
        "from tabulate import tabulate\n",
        "import pandas as pd\n",
        "import numpy as np\n",
        "import pytesseract\n",
        "import argparse\n",
        "import imutils\n",
        "import cv2"
      ],
      "metadata": {
        "id": "h_b7IBVzxojQ"
      },
      "execution_count": 5,
      "outputs": []
    },
    {
      "cell_type": "markdown",
      "source": [
        "Function to display images in Jupyter Notebooks and Google Colab"
      ],
      "metadata": {
        "id": "4Ts-zriR2nqw"
      }
    },
    {
      "cell_type": "code",
      "source": [
        "def plt_imshow(title, image):\n",
        "\t# convert the image frame BGR to RGB color space and display it\n",
        "\timage = cv2.cvtColor(image, cv2.COLOR_BGR2RGB)\n",
        "\tplt.imshow(image)\n",
        "\tplt.title(title)\n",
        "\tplt.grid(False)\n",
        "\tplt.show()"
      ],
      "metadata": {
        "id": "QPa6zvfKy33V"
      },
      "execution_count": 6,
      "outputs": []
    },
    {
      "cell_type": "markdown",
      "source": [
        "Implementing Multi-Column Table OCR"
      ],
      "metadata": {
        "id": "glkn8WAL2wRz"
      }
    },
    {
      "cell_type": "code",
      "source": [
        "# construct the argument parser and parse the arguments\n",
        "# ap = argparse.ArgumentParser()\n",
        "# ap.add_argument(\"-i\", \"--image\", required=True,\n",
        "# \thelp=\"path to input image to be OCR'd\")\n",
        "# ap.add_argument(\"-o\", \"--output\", required=True,\n",
        "# \thelp=\"path to output CSV file\")\n",
        "# ap.add_argument(\"-c\", \"--min-conf\", type=int, default=0,\n",
        "# \thelp=\"minimum confidence value to filter weak text detection\")\n",
        "# ap.add_argument(\"-d\", \"--dist-thresh\", type=float, default=25.0,\n",
        "# \thelp=\"distance threshold cutoff for clustering\")\n",
        "# ap.add_argument(\"-s\", \"--min-size\", type=int, default=2,\n",
        "# \thelp=\"minimum cluster size (i.e., # of entries in column)\")\n",
        "# args = vars(ap.parse_args())\n",
        "\n",
        "# since we are using Jupyter Notebooks we can replace our argument\n",
        "# parsing code with *hard coded* arguments and values # michael_jordan_stats.png # atevH.jpg\n",
        "args = {\n",
        "\t\"image\": \"michael_jordan_stats.png\",\n",
        "\t\"output\": \"results.csv\",\n",
        "\t\"min_conf\": 0,\n",
        "\t\"dist_thresh\": 25.0,\n",
        "\t\"min_size\": 2,\n",
        "}"
      ],
      "metadata": {
        "id": "RB2BmxA32qRu"
      },
      "execution_count": 7,
      "outputs": []
    },
    {
      "cell_type": "code",
      "source": [],
      "metadata": {
        "id": "3CWMWGnd3f8w"
      },
      "execution_count": null,
      "outputs": []
    }
  ]
}